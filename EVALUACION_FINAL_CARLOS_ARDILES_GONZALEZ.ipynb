{
 "cells": [
  {
   "attachments": {},
   "cell_type": "markdown",
   "metadata": {},
   "source": [
    "Enunciado del Problema:\n",
    "Usted ha sido contratado en el ministerio de educación para analizar los resultados de una nueva \n",
    "metodología de educación implementada en el colegio Graham Parker (GP), versus el colegio\n",
    "Marteen Sheen (MS), en donde no fue aplicada la metodología.\n",
    "Ambos colegios han tenido históricamente desempeños similares en las notas de sus alumnos. A \n",
    "continuación, se presenta un extracto del set de datos obtenido después de haber aplicado la \n",
    "nueva metodología:\n",
    "\n",
    "En base a este set de datos que se adjunta (notas-alumnos.csv), aplique sus conocimientos de \n",
    "estadística diferencial para determinar si esta nueva metodología de educación aplicada produjo\n",
    "una mejora significativa en el promedio de los estudiantes."
   ]
  },
  {
   "attachments": {},
   "cell_type": "markdown",
   "metadata": {},
   "source": [
    "## Obtención y limpieza de datos\n",
    "1. Se realiza un análisis exploratorio inicial para conocer la consistencia \n",
    "de la información y se hace la identificación y tratamiento de valores \n",
    "nulos"
   ]
  },
  {
   "attachments": {},
   "cell_type": "markdown",
   "metadata": {},
   "source": []
  },
  {
   "cell_type": "code",
   "execution_count": 42,
   "metadata": {},
   "outputs": [],
   "source": [
    "import numpy as np\n",
    "import pandas as pd\n",
    "from scipy import stats\n",
    "from scipy.stats import levene\n",
    "\n",
    "import matplotlib.pyplot as plt\n",
    "import seaborn as sns\n",
    "\n",
    "%matplotlib inline\n"
   ]
  },
  {
   "cell_type": "code",
   "execution_count": 4,
   "metadata": {},
   "outputs": [
    {
     "data": {
      "text/html": [
       "<div>\n",
       "<style scoped>\n",
       "    .dataframe tbody tr th:only-of-type {\n",
       "        vertical-align: middle;\n",
       "    }\n",
       "\n",
       "    .dataframe tbody tr th {\n",
       "        vertical-align: top;\n",
       "    }\n",
       "\n",
       "    .dataframe thead th {\n",
       "        text-align: right;\n",
       "    }\n",
       "</style>\n",
       "<table border=\"1\" class=\"dataframe\">\n",
       "  <thead>\n",
       "    <tr style=\"text-align: right;\">\n",
       "      <th></th>\n",
       "      <th>colegio</th>\n",
       "      <th>sexo</th>\n",
       "      <th>edad</th>\n",
       "      <th>ausencias</th>\n",
       "      <th>N1</th>\n",
       "      <th>N2</th>\n",
       "      <th>N3</th>\n",
       "    </tr>\n",
       "  </thead>\n",
       "  <tbody>\n",
       "    <tr>\n",
       "      <th>0</th>\n",
       "      <td>GP</td>\n",
       "      <td>F</td>\n",
       "      <td>18</td>\n",
       "      <td>6</td>\n",
       "      <td>1.8</td>\n",
       "      <td>2.1</td>\n",
       "      <td>2.1</td>\n",
       "    </tr>\n",
       "    <tr>\n",
       "      <th>1</th>\n",
       "      <td>GP</td>\n",
       "      <td>F</td>\n",
       "      <td>17</td>\n",
       "      <td>4</td>\n",
       "      <td>1.8</td>\n",
       "      <td>1.8</td>\n",
       "      <td>2.1</td>\n",
       "    </tr>\n",
       "    <tr>\n",
       "      <th>2</th>\n",
       "      <td>GP</td>\n",
       "      <td>F</td>\n",
       "      <td>15</td>\n",
       "      <td>10</td>\n",
       "      <td>2.4</td>\n",
       "      <td>2.8</td>\n",
       "      <td>3.5</td>\n",
       "    </tr>\n",
       "    <tr>\n",
       "      <th>3</th>\n",
       "      <td>GP</td>\n",
       "      <td>F</td>\n",
       "      <td>15</td>\n",
       "      <td>2</td>\n",
       "      <td>5.2</td>\n",
       "      <td>4.9</td>\n",
       "      <td>5.2</td>\n",
       "    </tr>\n",
       "    <tr>\n",
       "      <th>4</th>\n",
       "      <td>GP</td>\n",
       "      <td>F</td>\n",
       "      <td>16</td>\n",
       "      <td>4</td>\n",
       "      <td>2.1</td>\n",
       "      <td>3.5</td>\n",
       "      <td>3.5</td>\n",
       "    </tr>\n",
       "    <tr>\n",
       "      <th>...</th>\n",
       "      <td>...</td>\n",
       "      <td>...</td>\n",
       "      <td>...</td>\n",
       "      <td>...</td>\n",
       "      <td>...</td>\n",
       "      <td>...</td>\n",
       "      <td>...</td>\n",
       "    </tr>\n",
       "    <tr>\n",
       "      <th>390</th>\n",
       "      <td>MS</td>\n",
       "      <td>M</td>\n",
       "      <td>20</td>\n",
       "      <td>11</td>\n",
       "      <td>3.2</td>\n",
       "      <td>3.2</td>\n",
       "      <td>3.2</td>\n",
       "    </tr>\n",
       "    <tr>\n",
       "      <th>391</th>\n",
       "      <td>MS</td>\n",
       "      <td>M</td>\n",
       "      <td>17</td>\n",
       "      <td>3</td>\n",
       "      <td>4.9</td>\n",
       "      <td>5.6</td>\n",
       "      <td>5.6</td>\n",
       "    </tr>\n",
       "    <tr>\n",
       "      <th>392</th>\n",
       "      <td>MS</td>\n",
       "      <td>M</td>\n",
       "      <td>21</td>\n",
       "      <td>3</td>\n",
       "      <td>3.5</td>\n",
       "      <td>2.8</td>\n",
       "      <td>2.4</td>\n",
       "    </tr>\n",
       "    <tr>\n",
       "      <th>393</th>\n",
       "      <td>MS</td>\n",
       "      <td>M</td>\n",
       "      <td>18</td>\n",
       "      <td>0</td>\n",
       "      <td>3.9</td>\n",
       "      <td>4.2</td>\n",
       "      <td>3.5</td>\n",
       "    </tr>\n",
       "    <tr>\n",
       "      <th>394</th>\n",
       "      <td>MS</td>\n",
       "      <td>M</td>\n",
       "      <td>19</td>\n",
       "      <td>5</td>\n",
       "      <td>2.8</td>\n",
       "      <td>3.2</td>\n",
       "      <td>3.2</td>\n",
       "    </tr>\n",
       "  </tbody>\n",
       "</table>\n",
       "<p>395 rows × 7 columns</p>\n",
       "</div>"
      ],
      "text/plain": [
       "    colegio sexo  edad  ausencias   N1   N2   N3\n",
       "0        GP    F    18          6  1.8  2.1  2.1\n",
       "1        GP    F    17          4  1.8  1.8  2.1\n",
       "2        GP    F    15         10  2.4  2.8  3.5\n",
       "3        GP    F    15          2  5.2  4.9  5.2\n",
       "4        GP    F    16          4  2.1  3.5  3.5\n",
       "..      ...  ...   ...        ...  ...  ...  ...\n",
       "390      MS    M    20         11  3.2  3.2  3.2\n",
       "391      MS    M    17          3  4.9  5.6  5.6\n",
       "392      MS    M    21          3  3.5  2.8  2.4\n",
       "393      MS    M    18          0  3.9  4.2  3.5\n",
       "394      MS    M    19          5  2.8  3.2  3.2\n",
       "\n",
       "[395 rows x 7 columns]"
      ]
     },
     "execution_count": 4,
     "metadata": {},
     "output_type": "execute_result"
    }
   ],
   "source": [
    "#imporación del csv para convertirlo en un dataframe.\n",
    "df = pd.read_csv('notas-alumnos.csv')\n",
    "df"
   ]
  },
  {
   "cell_type": "code",
   "execution_count": 5,
   "metadata": {},
   "outputs": [
    {
     "name": "stdout",
     "output_type": "stream",
     "text": [
      "<class 'pandas.core.frame.DataFrame'>\n",
      "RangeIndex: 395 entries, 0 to 394\n",
      "Data columns (total 7 columns):\n",
      " #   Column     Non-Null Count  Dtype  \n",
      "---  ------     --------------  -----  \n",
      " 0   colegio    395 non-null    object \n",
      " 1   sexo       395 non-null    object \n",
      " 2   edad       395 non-null    int64  \n",
      " 3   ausencias  395 non-null    int64  \n",
      " 4   N1         395 non-null    float64\n",
      " 5   N2         395 non-null    float64\n",
      " 6   N3         395 non-null    float64\n",
      "dtypes: float64(3), int64(2), object(2)\n",
      "memory usage: 21.7+ KB\n"
     ]
    }
   ],
   "source": [
    "df.info()"
   ]
  },
  {
   "attachments": {},
   "cell_type": "markdown",
   "metadata": {},
   "source": [
    "No hay valores nulos en el dataframe"
   ]
  },
  {
   "cell_type": "code",
   "execution_count": 6,
   "metadata": {},
   "outputs": [
    {
     "data": {
      "text/plain": [
       "colegio       MS\n",
       "sexo           M\n",
       "edad          22\n",
       "ausencias     75\n",
       "N1           6.6\n",
       "N2           6.6\n",
       "N3           7.0\n",
       "dtype: object"
      ]
     },
     "execution_count": 6,
     "metadata": {},
     "output_type": "execute_result"
    }
   ],
   "source": [
    "df.max()"
   ]
  },
  {
   "cell_type": "code",
   "execution_count": 7,
   "metadata": {},
   "outputs": [
    {
     "data": {
      "text/plain": [
       "colegio       GP\n",
       "sexo           F\n",
       "edad          15\n",
       "ausencias      0\n",
       "N1           1.0\n",
       "N2           0.0\n",
       "N3           0.0\n",
       "dtype: object"
      ]
     },
     "execution_count": 7,
     "metadata": {},
     "output_type": "execute_result"
    }
   ],
   "source": [
    "df.min()"
   ]
  },
  {
   "cell_type": "code",
   "execution_count": 8,
   "metadata": {},
   "outputs": [
    {
     "data": {
      "text/html": [
       "<div>\n",
       "<style scoped>\n",
       "    .dataframe tbody tr th:only-of-type {\n",
       "        vertical-align: middle;\n",
       "    }\n",
       "\n",
       "    .dataframe tbody tr th {\n",
       "        vertical-align: top;\n",
       "    }\n",
       "\n",
       "    .dataframe thead th {\n",
       "        text-align: right;\n",
       "    }\n",
       "</style>\n",
       "<table border=\"1\" class=\"dataframe\">\n",
       "  <thead>\n",
       "    <tr style=\"text-align: right;\">\n",
       "      <th></th>\n",
       "      <th>edad</th>\n",
       "      <th>ausencias</th>\n",
       "      <th>N1</th>\n",
       "      <th>N2</th>\n",
       "      <th>N3</th>\n",
       "    </tr>\n",
       "  </thead>\n",
       "  <tbody>\n",
       "    <tr>\n",
       "      <th>count</th>\n",
       "      <td>395.000000</td>\n",
       "      <td>395.000000</td>\n",
       "      <td>395.000000</td>\n",
       "      <td>395.000000</td>\n",
       "      <td>395.000000</td>\n",
       "    </tr>\n",
       "    <tr>\n",
       "      <th>mean</th>\n",
       "      <td>16.696203</td>\n",
       "      <td>5.708861</td>\n",
       "      <td>3.824810</td>\n",
       "      <td>3.760506</td>\n",
       "      <td>3.654430</td>\n",
       "    </tr>\n",
       "    <tr>\n",
       "      <th>std</th>\n",
       "      <td>1.276043</td>\n",
       "      <td>8.003096</td>\n",
       "      <td>1.164139</td>\n",
       "      <td>1.312304</td>\n",
       "      <td>1.601205</td>\n",
       "    </tr>\n",
       "    <tr>\n",
       "      <th>min</th>\n",
       "      <td>15.000000</td>\n",
       "      <td>0.000000</td>\n",
       "      <td>1.000000</td>\n",
       "      <td>0.000000</td>\n",
       "      <td>0.000000</td>\n",
       "    </tr>\n",
       "    <tr>\n",
       "      <th>25%</th>\n",
       "      <td>16.000000</td>\n",
       "      <td>0.000000</td>\n",
       "      <td>2.800000</td>\n",
       "      <td>3.200000</td>\n",
       "      <td>2.800000</td>\n",
       "    </tr>\n",
       "    <tr>\n",
       "      <th>50%</th>\n",
       "      <td>17.000000</td>\n",
       "      <td>4.000000</td>\n",
       "      <td>3.900000</td>\n",
       "      <td>3.900000</td>\n",
       "      <td>3.900000</td>\n",
       "    </tr>\n",
       "    <tr>\n",
       "      <th>75%</th>\n",
       "      <td>18.000000</td>\n",
       "      <td>8.000000</td>\n",
       "      <td>4.600000</td>\n",
       "      <td>4.600000</td>\n",
       "      <td>4.900000</td>\n",
       "    </tr>\n",
       "    <tr>\n",
       "      <th>max</th>\n",
       "      <td>22.000000</td>\n",
       "      <td>75.000000</td>\n",
       "      <td>6.600000</td>\n",
       "      <td>6.600000</td>\n",
       "      <td>7.000000</td>\n",
       "    </tr>\n",
       "  </tbody>\n",
       "</table>\n",
       "</div>"
      ],
      "text/plain": [
       "             edad   ausencias          N1          N2          N3\n",
       "count  395.000000  395.000000  395.000000  395.000000  395.000000\n",
       "mean    16.696203    5.708861    3.824810    3.760506    3.654430\n",
       "std      1.276043    8.003096    1.164139    1.312304    1.601205\n",
       "min     15.000000    0.000000    1.000000    0.000000    0.000000\n",
       "25%     16.000000    0.000000    2.800000    3.200000    2.800000\n",
       "50%     17.000000    4.000000    3.900000    3.900000    3.900000\n",
       "75%     18.000000    8.000000    4.600000    4.600000    4.900000\n",
       "max     22.000000   75.000000    6.600000    6.600000    7.000000"
      ]
     },
     "execution_count": 8,
     "metadata": {},
     "output_type": "execute_result"
    }
   ],
   "source": [
    "df.describe()"
   ]
  },
  {
   "attachments": {},
   "cell_type": "markdown",
   "metadata": {},
   "source": [
    "Evaluando reemplazar 0.0 por 1.0"
   ]
  },
  {
   "cell_type": "code",
   "execution_count": 9,
   "metadata": {},
   "outputs": [],
   "source": [
    "#Se toma la decisión de reemplazar las notas 0 por 1, debido a que la escala de notas va de 1.0 a 7.0\n",
    "df[['N1','N2','N3']] = df[['N1','N2','N3']].replace(0,1)"
   ]
  },
  {
   "cell_type": "code",
   "execution_count": 10,
   "metadata": {},
   "outputs": [
    {
     "data": {
      "text/html": [
       "<div>\n",
       "<style scoped>\n",
       "    .dataframe tbody tr th:only-of-type {\n",
       "        vertical-align: middle;\n",
       "    }\n",
       "\n",
       "    .dataframe tbody tr th {\n",
       "        vertical-align: top;\n",
       "    }\n",
       "\n",
       "    .dataframe thead th {\n",
       "        text-align: right;\n",
       "    }\n",
       "</style>\n",
       "<table border=\"1\" class=\"dataframe\">\n",
       "  <thead>\n",
       "    <tr style=\"text-align: right;\">\n",
       "      <th></th>\n",
       "      <th>edad</th>\n",
       "      <th>ausencias</th>\n",
       "      <th>N1</th>\n",
       "      <th>N2</th>\n",
       "      <th>N3</th>\n",
       "    </tr>\n",
       "  </thead>\n",
       "  <tbody>\n",
       "    <tr>\n",
       "      <th>count</th>\n",
       "      <td>395.000000</td>\n",
       "      <td>395.000000</td>\n",
       "      <td>395.000000</td>\n",
       "      <td>395.000000</td>\n",
       "      <td>395.000000</td>\n",
       "    </tr>\n",
       "    <tr>\n",
       "      <th>mean</th>\n",
       "      <td>16.696203</td>\n",
       "      <td>5.708861</td>\n",
       "      <td>3.824810</td>\n",
       "      <td>3.793418</td>\n",
       "      <td>3.750633</td>\n",
       "    </tr>\n",
       "    <tr>\n",
       "      <th>std</th>\n",
       "      <td>1.276043</td>\n",
       "      <td>8.003096</td>\n",
       "      <td>1.164139</td>\n",
       "      <td>1.227149</td>\n",
       "      <td>1.395030</td>\n",
       "    </tr>\n",
       "    <tr>\n",
       "      <th>min</th>\n",
       "      <td>15.000000</td>\n",
       "      <td>0.000000</td>\n",
       "      <td>1.000000</td>\n",
       "      <td>1.000000</td>\n",
       "      <td>1.000000</td>\n",
       "    </tr>\n",
       "    <tr>\n",
       "      <th>25%</th>\n",
       "      <td>16.000000</td>\n",
       "      <td>0.000000</td>\n",
       "      <td>2.800000</td>\n",
       "      <td>3.200000</td>\n",
       "      <td>2.800000</td>\n",
       "    </tr>\n",
       "    <tr>\n",
       "      <th>50%</th>\n",
       "      <td>17.000000</td>\n",
       "      <td>4.000000</td>\n",
       "      <td>3.900000</td>\n",
       "      <td>3.900000</td>\n",
       "      <td>3.900000</td>\n",
       "    </tr>\n",
       "    <tr>\n",
       "      <th>75%</th>\n",
       "      <td>18.000000</td>\n",
       "      <td>8.000000</td>\n",
       "      <td>4.600000</td>\n",
       "      <td>4.600000</td>\n",
       "      <td>4.900000</td>\n",
       "    </tr>\n",
       "    <tr>\n",
       "      <th>max</th>\n",
       "      <td>22.000000</td>\n",
       "      <td>75.000000</td>\n",
       "      <td>6.600000</td>\n",
       "      <td>6.600000</td>\n",
       "      <td>7.000000</td>\n",
       "    </tr>\n",
       "  </tbody>\n",
       "</table>\n",
       "</div>"
      ],
      "text/plain": [
       "             edad   ausencias          N1          N2          N3\n",
       "count  395.000000  395.000000  395.000000  395.000000  395.000000\n",
       "mean    16.696203    5.708861    3.824810    3.793418    3.750633\n",
       "std      1.276043    8.003096    1.164139    1.227149    1.395030\n",
       "min     15.000000    0.000000    1.000000    1.000000    1.000000\n",
       "25%     16.000000    0.000000    2.800000    3.200000    2.800000\n",
       "50%     17.000000    4.000000    3.900000    3.900000    3.900000\n",
       "75%     18.000000    8.000000    4.600000    4.600000    4.900000\n",
       "max     22.000000   75.000000    6.600000    6.600000    7.000000"
      ]
     },
     "execution_count": 10,
     "metadata": {},
     "output_type": "execute_result"
    }
   ],
   "source": [
    "df.describe()"
   ]
  },
  {
   "cell_type": "code",
   "execution_count": 11,
   "metadata": {},
   "outputs": [],
   "source": [
    "df['promedio'] = df[['N1','N2','N3']].mean(axis = 1)"
   ]
  },
  {
   "cell_type": "code",
   "execution_count": 12,
   "metadata": {},
   "outputs": [
    {
     "data": {
      "text/html": [
       "<div>\n",
       "<style scoped>\n",
       "    .dataframe tbody tr th:only-of-type {\n",
       "        vertical-align: middle;\n",
       "    }\n",
       "\n",
       "    .dataframe tbody tr th {\n",
       "        vertical-align: top;\n",
       "    }\n",
       "\n",
       "    .dataframe thead th {\n",
       "        text-align: right;\n",
       "    }\n",
       "</style>\n",
       "<table border=\"1\" class=\"dataframe\">\n",
       "  <thead>\n",
       "    <tr style=\"text-align: right;\">\n",
       "      <th></th>\n",
       "      <th>colegio</th>\n",
       "      <th>sexo</th>\n",
       "      <th>edad</th>\n",
       "      <th>ausencias</th>\n",
       "      <th>N1</th>\n",
       "      <th>N2</th>\n",
       "      <th>N3</th>\n",
       "      <th>promedio</th>\n",
       "    </tr>\n",
       "  </thead>\n",
       "  <tbody>\n",
       "    <tr>\n",
       "      <th>0</th>\n",
       "      <td>GP</td>\n",
       "      <td>F</td>\n",
       "      <td>18</td>\n",
       "      <td>6</td>\n",
       "      <td>1.8</td>\n",
       "      <td>2.1</td>\n",
       "      <td>2.1</td>\n",
       "      <td>2.000000</td>\n",
       "    </tr>\n",
       "    <tr>\n",
       "      <th>1</th>\n",
       "      <td>GP</td>\n",
       "      <td>F</td>\n",
       "      <td>17</td>\n",
       "      <td>4</td>\n",
       "      <td>1.8</td>\n",
       "      <td>1.8</td>\n",
       "      <td>2.1</td>\n",
       "      <td>1.900000</td>\n",
       "    </tr>\n",
       "    <tr>\n",
       "      <th>2</th>\n",
       "      <td>GP</td>\n",
       "      <td>F</td>\n",
       "      <td>15</td>\n",
       "      <td>10</td>\n",
       "      <td>2.4</td>\n",
       "      <td>2.8</td>\n",
       "      <td>3.5</td>\n",
       "      <td>2.900000</td>\n",
       "    </tr>\n",
       "    <tr>\n",
       "      <th>3</th>\n",
       "      <td>GP</td>\n",
       "      <td>F</td>\n",
       "      <td>15</td>\n",
       "      <td>2</td>\n",
       "      <td>5.2</td>\n",
       "      <td>4.9</td>\n",
       "      <td>5.2</td>\n",
       "      <td>5.100000</td>\n",
       "    </tr>\n",
       "    <tr>\n",
       "      <th>4</th>\n",
       "      <td>GP</td>\n",
       "      <td>F</td>\n",
       "      <td>16</td>\n",
       "      <td>4</td>\n",
       "      <td>2.1</td>\n",
       "      <td>3.5</td>\n",
       "      <td>3.5</td>\n",
       "      <td>3.033333</td>\n",
       "    </tr>\n",
       "  </tbody>\n",
       "</table>\n",
       "</div>"
      ],
      "text/plain": [
       "  colegio sexo  edad  ausencias   N1   N2   N3  promedio\n",
       "0      GP    F    18          6  1.8  2.1  2.1  2.000000\n",
       "1      GP    F    17          4  1.8  1.8  2.1  1.900000\n",
       "2      GP    F    15         10  2.4  2.8  3.5  2.900000\n",
       "3      GP    F    15          2  5.2  4.9  5.2  5.100000\n",
       "4      GP    F    16          4  2.1  3.5  3.5  3.033333"
      ]
     },
     "execution_count": 12,
     "metadata": {},
     "output_type": "execute_result"
    }
   ],
   "source": [
    "df.head()"
   ]
  },
  {
   "attachments": {},
   "cell_type": "markdown",
   "metadata": {},
   "source": [
    "## Análisis Exploratorio de Datos\n",
    "- Se realiza un análisis exploratorio y visual de los datos para \n",
    "caracterizar y encontrar insights sobre la información"
   ]
  },
  {
   "cell_type": "code",
   "execution_count": 13,
   "metadata": {},
   "outputs": [
    {
     "data": {
      "text/plain": [
       "colegio\n",
       "GP    3.811557\n",
       "MS    3.623188\n",
       "Name: promedio, dtype: float64"
      ]
     },
     "execution_count": 13,
     "metadata": {},
     "output_type": "execute_result"
    }
   ],
   "source": [
    "df.groupby(['colegio'])['promedio'].mean()"
   ]
  },
  {
   "cell_type": "code",
   "execution_count": 14,
   "metadata": {},
   "outputs": [
    {
     "data": {
      "text/plain": [
       "colegio\n",
       "GP    1.218447\n",
       "MS    1.187359\n",
       "Name: promedio, dtype: float64"
      ]
     },
     "execution_count": 14,
     "metadata": {},
     "output_type": "execute_result"
    }
   ],
   "source": [
    "df.groupby(['colegio'])['promedio'].std()"
   ]
  },
  {
   "attachments": {},
   "cell_type": "markdown",
   "metadata": {},
   "source": [
    "- Como insight preliminar no se aprecia una mejora significativa en el promedio de las notas, con la nueva implementación."
   ]
  },
  {
   "attachments": {},
   "cell_type": "markdown",
   "metadata": {},
   "source": [
    "## Planteamiento del problema\n",
    "- El estudiante identifica claramente el problema de inferencia estadística. Se establecen claramente las hipótesis nula y alternativa. Se especifica la población o muestras involucradas en el problema."
   ]
  },
  {
   "attachments": {},
   "cell_type": "markdown",
   "metadata": {},
   "source": [
    "- Hipotesis Nula: No hay diferencia significativa de promedios de notas en los colegios debido a la implementación de la nueva metodologia.\n",
    "- Hipotesis Alternativa: Si existe diferencia significativa en el promedio de notas debido a la implementación de la nueva metodologia.\n",
    "- La población son los alumnos de ambos colegios donde analizaremos sus promedios de notas, las muestras son los alumnos que están en el colegio GP y MS."
   ]
  },
  {
   "attachments": {},
   "cell_type": "markdown",
   "metadata": {},
   "source": [
    "## Selección y justificación del test estadístico\n",
    "- Se selecciona el test estadístico adecuado para el problema planteado. \n",
    "Se justifica de manera coherente la elección del test estadístico en \n",
    "función de las características de los datos y el objetivo de la inferencia."
   ]
  },
  {
   "attachments": {},
   "cell_type": "markdown",
   "metadata": {},
   "source": [
    "Para definir el test estadistico a utilizar se requiere uno que trabaje con las medias de las muestras y que además son muestras independientes, ya que estamos analizando las notas de los alumnos de colegios diferentes.\n",
    "- La distribución normal estandar Z, trabaja o se enfoca en la desviación con respecto a la media.\n",
    "- la distribución t se enfoca en estudiar la media de la población.\n",
    "- La distribución t student permite estudiar dos muestras independientes, que cumplan con la condición de tener una distribución normal y una mínima diferencia de varianzas.\n",
    "\n"
   ]
  },
  {
   "cell_type": "code",
   "execution_count": 56,
   "metadata": {},
   "outputs": [
    {
     "data": {
      "text/plain": [
       "Text(0.5, 1.0, 'Histograma de Notas')"
      ]
     },
     "execution_count": 56,
     "metadata": {},
     "output_type": "execute_result"
    },
    {
     "data": {
      "image/png": "[encoded data removed]",
      "text/plain": [
       "<Figure size 640x480 with 1 Axes>"
      ]
     },
     "metadata": {},
     "output_type": "display_data"
    }
   ],
   "source": [
    "#Histograma colegio GP\n",
    "sns.histplot(data = df, x='promedio' , bins= 'auto' , hue='colegio', kde=True)\n",
    "plt.ylabel('Frecuencia')\n",
    "plt.xlabel('Promedio de Notas')\n",
    "plt.title('Histograma de Notas')\n"
   ]
  },
  {
   "cell_type": "code",
   "execution_count": 34,
   "metadata": {},
   "outputs": [
    {
     "name": "stdout",
     "output_type": "stream",
     "text": [
      "count    395.000000\n",
      "mean       3.789620\n",
      "std        1.214892\n",
      "min        1.133333\n",
      "25%        2.933333\n",
      "50%        3.766667\n",
      "75%        4.700000\n",
      "max        6.733333\n",
      "Name: promedio, dtype: float64\n",
      "\n",
      "la mediana es : 3.766666666666667\n"
     ]
    }
   ],
   "source": [
    "print(df['promedio'].describe())\n",
    "print('\\nla mediana es :',df['promedio'].median())"
   ]
  },
  {
   "attachments": {},
   "cell_type": "markdown",
   "metadata": {},
   "source": [
    "- Podemos inferir que la media y mediana de la población son similares por lo que podria ser una distribución normal.\n",
    "- Graficamente tiende a parecer una distribución normal.\n"
   ]
  },
  {
   "attachments": {},
   "cell_type": "markdown",
   "metadata": {},
   "source": [
    "## Cálculos y procedimientos\n",
    "- El estudiante realiza correctamente los cálculos necesarios para \n",
    "obtener los valores estadísticos requeridos (por ejemplo, media, \n",
    "desviación estándar, valor crítico) en Python. Se muestra claramente el \n",
    "procedimiento utilizado para realizar los cálculos. Se muestran los \n",
    "pasos lógicos seguidos para llegar a los resultados"
   ]
  },
  {
   "cell_type": "code",
   "execution_count": 47,
   "metadata": {},
   "outputs": [],
   "source": [
    "# Dividir los datos en dos grupos según el colegio\n",
    "grupo_GP = df[df[\"colegio\"] == \"GP\"][\"promedio\"]\n",
    "grupo_MS = df[df[\"colegio\"] == \"MS\"][\"promedio\"]"
   ]
  },
  {
   "cell_type": "code",
   "execution_count": 49,
   "metadata": {},
   "outputs": [
    {
     "name": "stdout",
     "output_type": "stream",
     "text": [
      "La media del colegio GP : 3.8115568290353385\n",
      "La media del colegio MS : 3.623188405797101\n",
      "La desviación estandar del colegio GP : 1.218447299194789\n",
      "La desviación estandar del colegio MS : 1.1873587154983933\n",
      "La mediana del colegio GP : 3.766666666666667\n",
      "La mediana del colegio MS : 3.5666666666666664\n"
     ]
    }
   ],
   "source": [
    "#Calculo de la media por colegio:\n",
    "print('La media del colegio GP :', grupo_GP.mean())\n",
    "print('La media del colegio MS :', grupo_MS.mean())\n",
    "\n",
    "#Calculo de la desviacion estandar por colegio:\n",
    "print('La desviación estandar del colegio GP :', grupo_GP.std())\n",
    "print('La desviación estandar del colegio MS :', grupo_MS.std())\n",
    "\n",
    "#Calculo de la mediana por colegio:\n",
    "print('La mediana del colegio GP :', grupo_GP.median())\n",
    "print('La mediana del colegio MS :', grupo_MS.median())"
   ]
  },
  {
   "attachments": {},
   "cell_type": "markdown",
   "metadata": {},
   "source": [
    "## Interpretación y conclusión\n",
    "- Se interpreta correctamente el valor del estadístico obtenido. Se \n",
    "interpreta correctamente el valor p obtenido. Se proporciona una \n",
    "conclusión adecuada y coherente con los resultados obtenidos"
   ]
  },
  {
   "attachments": {},
   "cell_type": "markdown",
   "metadata": {},
   "source": [
    "Anteriormente se evidenció que las muestras tenian una tendencia a ser una distribución normal, ahora se debe comprobar que las varianzas presenten igualdad para poder realizar la prueba t student."
   ]
  },
  {
   "cell_type": "code",
   "execution_count": 43,
   "metadata": {},
   "outputs": [
    {
     "name": "stdout",
     "output_type": "stream",
     "text": [
      "Estadistico Levene : 0.10574550084994043\n",
      "Valor p de Levene : 0.7452138541978364\n"
     ]
    }
   ],
   "source": [
    "#Para verificar que existe igual de varianzas se realizará la prueba de Levene.\n",
    "stat, p_valor = levene(grupo_GP,grupo_MS)\n",
    "print('Estadistico Levene :',stat)\n",
    "print('Valor p de Levene :',p_valor)\n"
   ]
  },
  {
   "attachments": {},
   "cell_type": "markdown",
   "metadata": {},
   "source": [
    "- Podemos determinar que el valor p es mayor que el nivel de significancia (0.05), por lo tanto, no se puede afirmar con confianza que las varianzas de las muestras sean significativamente diferentes.\n",
    "- Con esta conclusión podemos afirmar que podemos usar la prueba t Student, para estudiar  los colegios y determinar si existe una diferencia significativa en la media."
   ]
  },
  {
   "cell_type": "code",
   "execution_count": 44,
   "metadata": {},
   "outputs": [
    {
     "name": "stdout",
     "output_type": "stream",
     "text": [
      "Valor t : 0.9884408598788288\n",
      "Valor p : 0.3235449446271107\n"
     ]
    }
   ],
   "source": [
    "# Realizar la prueba de hipótesis\n",
    "alpha = 0.05  # Nivel de significancia\n",
    "\n",
    "# Hipótesis nula: No hay diferencia en el promedio de los estudiantes entre los colegios GP y MS\n",
    "# Hipótesis alternativa: La nueva metodología de educación ha mejorado significativamente el promedio en el colegio GP en comparación con el colegio MS\n",
    "\n",
    "prueba_t = stats.ttest_ind(grupo_GP, grupo_MS)\n",
    "print('Valor t :',prueba_t.statistic)\n",
    "print('Valor p :',prueba_t.pvalue)\n"
   ]
  },
  {
   "attachments": {},
   "cell_type": "markdown",
   "metadata": {},
   "source": [
    "- El valor p obtenido es menor que el nivel de significancia que se ha determinado para este estudio, por lo tanto, se rechaza nuestra hipotesis nula, lo que quiere decir que no existe una diferencia significativa en las medias de las muestras estudiadas, en conclusion, La nueva metodología implementada en el colegio GP no ha obtenido resultados significativos, se recomienda analizar la metodología y tomar nuevas decisiones."
   ]
  },
  {
   "attachments": {},
   "cell_type": "markdown",
   "metadata": {},
   "source": [
    "## Análisis crítico de los resultados obtenidos."
   ]
  },
  {
   "attachments": {},
   "cell_type": "markdown",
   "metadata": {},
   "source": [
    "- Al analizar el histograma generado previamente, se podía concluir que hay una gran diferencia en la cantidad de elementos entre las dos muestras a estudiar, esto podría indicar que se necesita una muestra más grande o que sean de similar magnitud las muestras a estudiar."
   ]
  },
  {
   "cell_type": "code",
   "execution_count": 45,
   "metadata": {},
   "outputs": [
    {
     "name": "stdout",
     "output_type": "stream",
     "text": [
      "La cantidad de elementos del colegio GP es :  349\n",
      "La cantidad de elementos del colegio MS es :  46\n"
     ]
    }
   ],
   "source": [
    "print('La cantidad de elementos del colegio GP es : ',grupo_GP.count())\n",
    "print('La cantidad de elementos del colegio MS es : ',grupo_MS.count())"
   ]
  },
  {
   "attachments": {},
   "cell_type": "markdown",
   "metadata": {},
   "source": [
    "- También se recomienda para la comparación de las muestras se tome en consideración las inasistencias de los alumnos, puede ser una variable que influya en las notas, e impida una correcta implementación de la nueva metodología."
   ]
  },
  {
   "cell_type": "code",
   "execution_count": 46,
   "metadata": {},
   "outputs": [
    {
     "name": "stdout",
     "output_type": "stream",
     "text": [
      "Inasistencias de colegio GP :  2082\n",
      "Inasistencias de colegio MS :  173\n"
     ]
    }
   ],
   "source": [
    "print('Inasistencias de colegio GP : ', df[df[\"colegio\"] == \"GP\"][\"ausencias\"].sum())\n",
    "print('Inasistencias de colegio MS : ', df[df[\"colegio\"] == \"MS\"][\"ausencias\"].sum())"
   ]
  },
  {
   "attachments": {},
   "cell_type": "markdown",
   "metadata": {},
   "source": [
    "- Aunque exista una diferencia significativa entre la cantidad de elementos de cada muestra, la proporpoción de inasistencias entre ambas muestras es mucho mayor, se recomienda realizar un estudio de esta hipotesis."
   ]
  }
 ],
 "metadata": {
  "kernelspec": {
   "display_name": "Python 3",
   "language": "python",
   "name": "python3"
  },
  "language_info": {
   "codemirror_mode": {
    "name": "ipython",
    "version": 3
   },
   "file_extension": ".py",
   "mimetype": "text/x-python",
   "name": "python",
   "nbconvert_exporter": "python",
   "pygments_lexer": "ipython3",
   "version": "3.11.3"
  },
  "orig_nbformat": 4
 },
 "nbformat": 4,
 "nbformat_minor": 2
}
